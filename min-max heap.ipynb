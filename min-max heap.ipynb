{
  "cells": [
    {
      "cell_type": "code",
      "source": [],
      "metadata": {
        "id": "wb4viQOegTSb"
      },
      "execution_count": null,
      "outputs": []
    },
    {
      "cell_type": "markdown",
      "source": [
        "##**Definition of Min-Max Heap**\n",
        "1.   The root level is at min level\n",
        "2.   A max level comes after a min level, which means all the even levels are min levels while all the oadd levels are max levels (root level is level 0)\n",
        "3.   Any node at the min level has to be the minimunm among its subtrees, vice versa to the max level.  \n",
        "\n"
      ],
      "metadata": {
        "id": "GpWJBoU9bWT0"
      }
    },
    {
      "cell_type": "markdown",
      "source": [
        "##**Thought...**\n",
        "Here we illustrate how to insert an element into a min-max heap briefly.\n",
        "\n",
        "1.  **Insert the new element into the last leaf of the heap**\n",
        "2.  **Modify the heap that is vioalte the rule by clarifying it into two cases:**\n",
        "* When the new node *x* is located at the min level\n",
        "    * if *x* is larger than its parent, which means it violate the rule - every node at the max level have to be the maximum among its subtrees. So we need to exchange the value of the two nodes. Otherwise, we won't need to make any change.\n",
        "    * After the comparason between the new node and its parent, we stil need to verify the validity of the position of the new node, which means every node have to be the minimum/maximum among its subtree after the insertion.\n",
        "    * So, here comes the way to check it. Since we know, except for the parent/grandparent of the new nodes, the validity of others won't change, hence, we only need to check if its grandparent valid after the adjustment with its parent. Take a look of the function *verifyMin* and *verifyMax* in the following code. it check the grandparent of the node recusively. If the node is smaller than the grandparent in the min level, exchange them. Same thought that, if the new node is larger than its grandparent in the max level, change it and vice versa.\n",
        "* We can leverage the abovemention conception to the case when the new node is located at the max level🙂\n",
        "\n",
        "\n",
        "\n"
      ],
      "metadata": {
        "id": "RdIGNgLhbENt"
      }
    },
    {
      "cell_type": "code",
      "source": [
        "import math"
      ],
      "metadata": {
        "id": "FGiAhRcHUGhw"
      },
      "execution_count": 12,
      "outputs": []
    },
    {
      "cell_type": "code",
      "source": [
        "def find_level(index):\n",
        "  level =math.log(index, 2)\n",
        "  return int(level)"
      ],
      "metadata": {
        "id": "Siia8G3TTAyM"
      },
      "execution_count": 21,
      "outputs": []
    },
    {
      "cell_type": "code",
      "source": [
        "def verifymin(index):\n",
        "  gparent = index//4\n",
        "  while(gparent):\n",
        "    if(heap[gparent - 1]<heap[index - 1]):\n",
        "      heap[gparent - 1], heap[index - 1] = heap[index - 1], heap[gparent - 1] #swap\n",
        "      index = gparent\n",
        "    gparent = gparent//4\n",
        "  return"
      ],
      "metadata": {
        "id": "8k38UqoRWTUs"
      },
      "execution_count": 44,
      "outputs": []
    },
    {
      "cell_type": "code",
      "source": [
        "def verifymax(index):\n",
        "  gparent = index//4\n",
        "  while(gparent):\n",
        "    if(heap[gparent - 1]>heap[index - 1]):\n",
        "      heap[gparent - 1], heap[index - 1] = heap[index - 1], heap[gparent - 1] #swap\n",
        "      index = gparent\n",
        "    gparent = gparent//4\n",
        "  return"
      ],
      "metadata": {
        "id": "0MwLGMICWVqs"
      },
      "execution_count": 45,
      "outputs": []
    },
    {
      "cell_type": "code",
      "source": [
        "def insert(x):\n",
        "  last = len(heap) + 1\n",
        "  heap.append(x)\n",
        "  parent = last//2\n",
        "  #parent state level\n",
        "  if(parent):\n",
        "    if (find_level(parent)%2): #odd, max\n",
        "      if (x > heap[parent - 1]):\n",
        "        heap[last - 1], heap[parent - 1] = heap[parent - 1], heap[last - 1] #swap\n",
        "        verifymin(parent)\n",
        "      else:\n",
        "        verifymax(last)\n",
        "    else: #even, min\n",
        "      if(x<heap[parent - 1]):\n",
        "        heap[last - 1], heap[parent - 1] = heap[parent - 1], heap[last - 1] #swap\n",
        "        verifymax(parent)\n",
        "      else:\n",
        "        verifymin(last)"
      ],
      "metadata": {
        "id": "WyEgNfq4SN3n"
      },
      "execution_count": 36,
      "outputs": []
    },
    {
      "cell_type": "code",
      "source": [
        "def heap_print(arr):\n",
        "  print(arr, \", \")"
      ],
      "metadata": {
        "id": "WfvqskBPYP9B"
      },
      "execution_count": 26,
      "outputs": []
    },
    {
      "cell_type": "code",
      "source": [
        "lists = [19, 13, 16, 22, 6, 17, 25, 37, 8, 31, 2, 28, 33]\n",
        "heap = []"
      ],
      "metadata": {
        "id": "tY4fLHEUR_-U"
      },
      "execution_count": 50,
      "outputs": []
    },
    {
      "cell_type": "code",
      "source": [
        "for i in lists:\n",
        "  insert(i)"
      ],
      "metadata": {
        "id": "HoXMWDKOUOs6"
      },
      "execution_count": 51,
      "outputs": []
    },
    {
      "cell_type": "code",
      "source": [
        "heap_print(heap)"
      ],
      "metadata": {
        "id": "js4ZMDyiYtOL",
        "outputId": "940a7024-533d-472e-f69e-81d113b7fd04",
        "colab": {
          "base_uri": "https://localhost:8080/"
        }
      },
      "execution_count": 52,
      "outputs": [
        {
          "output_type": "stream",
          "name": "stdout",
          "text": [
            "[2, 37, 33, 8, 6, 16, 17, 22, 19, 31, 13, 25, 28] , \n"
          ]
        }
      ]
    }
  ],
  "metadata": {
    "colab": {
      "name": "Welcome To Colaboratory",
      "toc_visible": true,
      "provenance": []
    },
    "kernelspec": {
      "display_name": "Python 3",
      "name": "python3"
    }
  },
  "nbformat": 4,
  "nbformat_minor": 0
}